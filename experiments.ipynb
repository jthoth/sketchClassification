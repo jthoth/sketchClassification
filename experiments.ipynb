{
 "cells": [
  {
   "cell_type": "code",
   "execution_count": 1,
   "metadata": {},
   "outputs": [],
   "source": [
    "from tensorflow.keras import optimizers, losses, callbacks\n",
    "from tensorflow.data import TFRecordDataset\n",
    "from src import models, loader"
   ]
  },
  {
   "cell_type": "code",
   "execution_count": 3,
   "metadata": {},
   "outputs": [
    {
     "name": "stderr",
     "output_type": "stream",
     "text": [
      "16000it [02:17, 116.69it/s]\n",
      "4000it [00:12, 326.43it/s]\n"
     ]
    }
   ],
   "source": [
    "builder = loader.DatasetBuilder('data/', shape=(256, 256))\n",
    "builder()"
   ]
  },
  {
   "cell_type": "code",
   "execution_count": 8,
   "metadata": {},
   "outputs": [],
   "source": [
    "batch_size = 32\n",
    "\n",
    "train = TFRecordDataset('data/train.records')\n",
    "train = train.map(builder.decoder)\n",
    "train = train.map(builder.data_augmentation)\n",
    "train = train.shuffle(buffer_size=7000)\n",
    "train = train.batch(batch_size=batch_size)"
   ]
  },
  {
   "cell_type": "code",
   "execution_count": 9,
   "metadata": {},
   "outputs": [],
   "source": [
    "test = TFRecordDataset('data/test.records')\n",
    "test = test.map(builder.decoder)\n",
    "test = test.map(builder.normalize)\n",
    "test = test.batch(batch_size=batch_size)"
   ]
  },
  {
   "cell_type": "code",
   "execution_count": 10,
   "metadata": {},
   "outputs": [],
   "source": [
    "model = models.SqueezeExcitation()\n",
    "model.build((1, 256, 256, 3))\n",
    "\n",
    "model.compile(loss='categorical_crossentropy', \n",
    "              optimizer='adam', \n",
    "              metrics=['accuracy'])"
   ]
  },
  {
   "cell_type": "code",
   "execution_count": 11,
   "metadata": {},
   "outputs": [],
   "source": [
    "from tensorflow.keras.callbacks import ModelCheckpoint, ReduceLROnPlateau, EarlyStopping, TensorBoard\n",
    "from datetime import datetime\n",
    "\n",
    "\n",
    "logdir = \"logs/\" + datetime.now().strftime(\"%Y%m%d-%H%M%S\")\n",
    "tensorboard_callback = TensorBoard(log_dir=logdir)\n",
    "model_checkpoint = ModelCheckpoint('SqueezeExcitation.h5', save_best_only=True)\n",
    "reduce_lr = ReduceLROnPlateau(factor=0.2, patience=5, min_lr=0.000001)\n",
    "early_stop = EarlyStopping(patience=10)\n",
    "_callbacks = [model_checkpoint, reduce_lr, early_stop, tensorboard_callback]"
   ]
  },
  {
   "cell_type": "code",
   "execution_count": null,
   "metadata": {},
   "outputs": [
    {
     "name": "stdout",
     "output_type": "stream",
     "text": [
      "Epoch 1/100\n",
      "500/500 [==============================] - 390s 779ms/step - loss: 4.3633 - accuracy: 0.1098 - val_loss: 12.3983 - val_accuracy: 0.0160 - lr: 0.0010\n",
      "Epoch 2/100\n",
      "222/500 [============>.................] - ETA: 3:36 - loss: 3.1659 - accuracy: 0.2869"
     ]
    }
   ],
   "source": [
    "history = model.fit(train, epochs=100, validation_data=test, callbacks=_callbacks)"
   ]
  }
 ],
 "metadata": {
  "kernelspec": {
   "display_name": "Python 3",
   "language": "python",
   "name": "python3"
  },
  "language_info": {
   "codemirror_mode": {
    "name": "ipython",
    "version": 3
   },
   "file_extension": ".py",
   "mimetype": "text/x-python",
   "name": "python",
   "nbconvert_exporter": "python",
   "pygments_lexer": "ipython3",
   "version": "3.7.7"
  }
 },
 "nbformat": 4,
 "nbformat_minor": 4
}
