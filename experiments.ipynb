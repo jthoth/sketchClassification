{
 "cells": [
  {
   "cell_type": "code",
   "execution_count": 8,
   "metadata": {},
   "outputs": [],
   "source": [
    "from tensorflow.keras import optimizers, losses, callbacks\n",
    "from tensorflow.data import TFRecordDataset\n",
    "from src import models, loader\n"
   ]
  },
  {
   "cell_type": "code",
   "execution_count": 2,
   "metadata": {},
   "outputs": [],
   "source": [
    "batch_size = 750\n",
    "\n",
    "builder = loader.DatasetBuilder('data', shape=(256, 256))\n",
    "train = TFRecordDataset('data/train.records')\n",
    "train = train.map(builder.decoder)\n",
    "train = train.map(builder.data_augmentation)\n",
    "train = train.shuffle(16000)\n",
    "train = train.batch(batch_size=batch_size)"
   ]
  },
  {
   "cell_type": "code",
   "execution_count": 3,
   "metadata": {},
   "outputs": [],
   "source": [
    "test = TFRecordDataset('data/test.records')\n",
    "test = test.map(builder.decoder)\n",
    "test = test.map(builder.normalize)\n",
    "test = test.shuffle(4000)\n",
    "test = test.batch(batch_size=batch_size)"
   ]
  },
  {
   "cell_type": "code",
   "execution_count": 4,
   "metadata": {},
   "outputs": [
    {
     "name": "stdout",
     "output_type": "stream",
     "text": [
      "Model: \"vgg_model\"\n",
      "_________________________________________________________________\n",
      "Layer (type)                 Output Shape              Param #   \n",
      "=================================================================\n",
      "conv2d (Conv2D)              multiple                  1792      \n",
      "_________________________________________________________________\n",
      "conv2d_1 (Conv2D)            multiple                  36928     \n",
      "_________________________________________________________________\n",
      "conv2d_2 (Conv2D)            multiple                  36928     \n",
      "_________________________________________________________________\n",
      "conv2d_3 (Conv2D)            multiple                  36928     \n",
      "_________________________________________________________________\n",
      "conv2d_4 (Conv2D)            multiple                  36928     \n",
      "_________________________________________________________________\n",
      "max_pooling2d (MaxPooling2D) multiple                  0         \n",
      "_________________________________________________________________\n",
      "conv2d_5 (Conv2D)            multiple                  36928     \n",
      "_________________________________________________________________\n",
      "conv2d_6 (Conv2D)            multiple                  36928     \n",
      "_________________________________________________________________\n",
      "conv2d_7 (Conv2D)            multiple                  36928     \n",
      "_________________________________________________________________\n",
      "conv2d_8 (Conv2D)            multiple                  36928     \n",
      "_________________________________________________________________\n",
      "max_pooling2d_1 (MaxPooling2 multiple                  0         \n",
      "_________________________________________________________________\n",
      "conv2d_9 (Conv2D)            multiple                  73856     \n",
      "_________________________________________________________________\n",
      "conv2d_10 (Conv2D)           multiple                  147584    \n",
      "_________________________________________________________________\n",
      "conv2d_11 (Conv2D)           multiple                  147584    \n",
      "_________________________________________________________________\n",
      "conv2d_12 (Conv2D)           multiple                  147584    \n",
      "_________________________________________________________________\n",
      "max_pooling2d_2 (MaxPooling2 multiple                  0         \n",
      "_________________________________________________________________\n",
      "conv2d_13 (Conv2D)           multiple                  147584    \n",
      "_________________________________________________________________\n",
      "conv2d_14 (Conv2D)           multiple                  147584    \n",
      "_________________________________________________________________\n",
      "conv2d_15 (Conv2D)           multiple                  147584    \n",
      "_________________________________________________________________\n",
      "conv2d_16 (Conv2D)           multiple                  147584    \n",
      "_________________________________________________________________\n",
      "max_pooling2d_3 (MaxPooling2 multiple                  0         \n",
      "_________________________________________________________________\n",
      "conv2d_17 (Conv2D)           multiple                  295168    \n",
      "_________________________________________________________________\n",
      "conv2d_18 (Conv2D)           multiple                  590080    \n",
      "_________________________________________________________________\n",
      "conv2d_19 (Conv2D)           multiple                  590080    \n",
      "_________________________________________________________________\n",
      "conv2d_20 (Conv2D)           multiple                  590080    \n",
      "_________________________________________________________________\n",
      "global_average_pooling2d (Gl multiple                  0         \n",
      "_________________________________________________________________\n",
      "dense (Dense)                multiple                  64250     \n",
      "=================================================================\n",
      "Total params: 3,533,818\n",
      "Trainable params: 3,533,818\n",
      "Non-trainable params: 0\n",
      "_________________________________________________________________\n"
     ]
    }
   ],
   "source": [
    "model = models.VggModel()\n",
    "model.build((1, 256, 256, 3))\n",
    "model.summary()"
   ]
  },
  {
   "cell_type": "code",
   "execution_count": 7,
   "metadata": {},
   "outputs": [],
   "source": [
    "model.compile(loss='categorical_crossentropy', \n",
    "              optimizer='adam',  \n",
    "              metrics=['accuracy'])"
   ]
  },
  {
   "cell_type": "code",
   "execution_count": null,
   "metadata": {},
   "outputs": [
    {
     "name": "stdout",
     "output_type": "stream",
     "text": [
      "Epoch 1/2\n"
     ]
    }
   ],
   "source": [
    "history = model.fit(train, epochs=2, validation_data=test)"
   ]
  },
  {
   "cell_type": "code",
   "execution_count": null,
   "metadata": {},
   "outputs": [],
   "source": []
  },
  {
   "cell_type": "code",
   "execution_count": null,
   "metadata": {},
   "outputs": [],
   "source": []
  },
  {
   "cell_type": "code",
   "execution_count": null,
   "metadata": {},
   "outputs": [],
   "source": []
  },
  {
   "cell_type": "code",
   "execution_count": null,
   "metadata": {},
   "outputs": [],
   "source": []
  }
 ],
 "metadata": {
  "kernelspec": {
   "display_name": "Python 3",
   "language": "python",
   "name": "python3"
  },
  "language_info": {
   "codemirror_mode": {
    "name": "ipython",
    "version": 3
   },
   "file_extension": ".py",
   "mimetype": "text/x-python",
   "name": "python",
   "nbconvert_exporter": "python",
   "pygments_lexer": "ipython3",
   "version": "3.6.9"
  }
 },
 "nbformat": 4,
 "nbformat_minor": 4
}
